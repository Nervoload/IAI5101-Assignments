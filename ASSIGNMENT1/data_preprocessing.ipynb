{
 "cells": [
  {
   "cell_type": "code",
   "execution_count": 3,
   "metadata": {},
   "outputs": [
    {
     "name": "stderr",
     "output_type": "stream",
     "text": [
      "Fontconfig warning: ignoring UTF-8: not a valid region tag\n"
     ]
    }
   ],
   "source": [
    "# IMPORTING LIBRARIES\n",
    "import numpy as np\n",
    "import pandas as pd\n",
    "import matplotlib.pyplot as plt\n",
    "\n",
    "from sklearn.preprocessing import StandardScaler\n",
    "from sklearn.preprocessing import MinMaxScaler\n",
    "from sklearn.compose import ColumnTransformer \n",
    "from sklearn.impute import SimpleImputer\n",
    "from sklearn.preprocessing import OneHotEncoder\n",
    "from sklearn.preprocessing import StandardScaler\n",
    "from sklearn.pipeline import Pipeline\n",
    "from sklearn.linear_model import LinearRegression\n",
    "from sklearn.ensemble import  RandomForestRegressor\n",
    "from sklearn.model_selection import train_test_split\n",
    "from sklearn.metrics import mean_squared_error"
   ]
  },
  {
   "cell_type": "code",
   "execution_count": 8,
   "metadata": {},
   "outputs": [
    {
     "name": "stdout",
     "output_type": "stream",
     "text": [
      "      PatientID  AppointmentID Gender          ScheduledDay  \\\n",
      "0  2.990000e+13        5642903      F  2016-04-29T18:38:08Z   \n",
      "1  5.590000e+14        5642503      M  2016-04-29T16:08:27Z   \n",
      "2  4.260000e+12        5642549      F  2016-04-29T16:19:04Z   \n",
      "3  8.680000e+11        5642828      F  2016-04-29T17:29:31Z   \n",
      "4  8.840000e+12        5642494      F  2016-04-29T16:07:23Z   \n",
      "\n",
      "         AppointmentDay   Age      Neighbourhood  Scholarship  Hypertension  \\\n",
      "0  2016-04-29T00:00:00Z  62.0    JARDIM DA PENHA            0             1   \n",
      "1  2016-04-29T00:00:00Z  56.0    JARDIM DA PENHA            0             0   \n",
      "2  2016-04-29T00:00:00Z  62.0      MATA DA PRAIA            0             0   \n",
      "3  2016-04-29T00:00:00Z   8.0  PONTAL DE CAMBURI            0             0   \n",
      "4  2016-04-29T00:00:00Z  56.0    JARDIM DA PENHA            0             1   \n",
      "\n",
      "   Diabetes  Alcoholism  Handicap  SMS_received No-show  \n",
      "0         0           0         0             0      No  \n",
      "1         0           0         0             0      No  \n",
      "2         0           0         0             0      No  \n",
      "3         0           0         0             0      No  \n",
      "4         1           0         0             0      No  \n"
     ]
    }
   ],
   "source": [
    "# READING THE DATA\n",
    "df = pd.read_csv('MedicalCentre.csv')\n",
    "print(df[:5])"
   ]
  },
  {
   "cell_type": "code",
   "execution_count": 9,
   "metadata": {},
   "outputs": [],
   "source": [
    "# DATA PREPROCESSING\n",
    "# Dropping the columns that are not required\n",
    "df = df.drop(['PatientID', 'AppointmentID', 'ScheduledDay', 'AppointmentDay', 'Scholarship'], axis=1)"
   ]
  },
  {
   "cell_type": "code",
   "execution_count": 13,
   "metadata": {},
   "outputs": [
    {
     "name": "stdout",
     "output_type": "stream",
     "text": [
      "   Gender   Age   Neighbourhood  Hypertension  Diabetes  Alcoholism  Handicap  \\\n",
      "29      F   NaN    SANTA MARTHA             0         0           0         0   \n",
      "30      F  46.0  NOVA PALESTINA             0         0           0         0   \n",
      "31      M  12.0  NOVA PALESTINA             0         0           0         0   \n",
      "32      M  61.0   SÃO CRISTÓVÃO             1         0           0         0   \n",
      "33      F  38.0   SÃO CRISTÓVÃO             0         0           0         0   \n",
      "34      F  79.0   SÃO CRISTÓVÃO             1         0           0         0   \n",
      "\n",
      "    SMS_received No-show  \n",
      "29             0      No  \n",
      "30             0      No  \n",
      "31             0     Yes  \n",
      "32             0      No  \n",
      "33             1      No  \n",
      "34             0      No  \n"
     ]
    }
   ],
   "source": [
    "print(df[29:35])"
   ]
  },
  {
   "cell_type": "code",
   "execution_count": 16,
   "metadata": {},
   "outputs": [
    {
     "name": "stdout",
     "output_type": "stream",
     "text": [
      "110524\n",
      "110524\n"
     ]
    }
   ],
   "source": [
    "# removing the rows with missing values\n",
    "# print lenght of df before removing the rows with missing values\n",
    "print(len(df))\n",
    "df = df.dropna()\n",
    "print(len(df))\n",
    "# only 3 rows were removed!"
   ]
  },
  {
   "cell_type": "code",
   "execution_count": 42,
   "metadata": {},
   "outputs": [
    {
     "ename": "IndexingError",
     "evalue": "Too many indexers",
     "output_type": "error",
     "traceback": [
      "\u001b[0;31m---------------------------------------------------------------------------\u001b[0m",
      "\u001b[0;31mIndexingError\u001b[0m                             Traceback (most recent call last)",
      "Cell \u001b[0;32mIn [42], line 4\u001b[0m\n\u001b[1;32m      1\u001b[0m \u001b[39m# converting the categorical variables to numerical variables\u001b[39;00m\n\u001b[1;32m      3\u001b[0m df\u001b[39m.\u001b[39mreset_index(drop\u001b[39m=\u001b[39m\u001b[39mTrue\u001b[39;00m, inplace\u001b[39m=\u001b[39m\u001b[39mTrue\u001b[39;00m)\n\u001b[0;32m----> 4\u001b[0m gdr \u001b[39m=\u001b[39m df\u001b[39m.\u001b[39;49mloc[:,\u001b[39m'\u001b[39;49m\u001b[39mGender\u001b[39;49m\u001b[39m'\u001b[39;49m, \u001b[39m'\u001b[39;49m\u001b[39mNo-Show\u001b[39;49m\u001b[39m'\u001b[39;49m]\n\u001b[1;32m      6\u001b[0m enc \u001b[39m=\u001b[39m []\n\u001b[1;32m      8\u001b[0m \u001b[39mfor\u001b[39;00m i \u001b[39min\u001b[39;00m gdr:\n",
      "File \u001b[0;32m/Library/Frameworks/Python.framework/Versions/3.10/lib/python3.10/site-packages/pandas/core/indexing.py:1067\u001b[0m, in \u001b[0;36m_LocationIndexer.__getitem__\u001b[0;34m(self, key)\u001b[0m\n\u001b[1;32m   1065\u001b[0m     \u001b[39mif\u001b[39;00m \u001b[39mself\u001b[39m\u001b[39m.\u001b[39m_is_scalar_access(key):\n\u001b[1;32m   1066\u001b[0m         \u001b[39mreturn\u001b[39;00m \u001b[39mself\u001b[39m\u001b[39m.\u001b[39mobj\u001b[39m.\u001b[39m_get_value(\u001b[39m*\u001b[39mkey, takeable\u001b[39m=\u001b[39m\u001b[39mself\u001b[39m\u001b[39m.\u001b[39m_takeable)\n\u001b[0;32m-> 1067\u001b[0m     \u001b[39mreturn\u001b[39;00m \u001b[39mself\u001b[39;49m\u001b[39m.\u001b[39;49m_getitem_tuple(key)\n\u001b[1;32m   1068\u001b[0m \u001b[39melse\u001b[39;00m:\n\u001b[1;32m   1069\u001b[0m     \u001b[39m# we by definition only have the 0th axis\u001b[39;00m\n\u001b[1;32m   1070\u001b[0m     axis \u001b[39m=\u001b[39m \u001b[39mself\u001b[39m\u001b[39m.\u001b[39maxis \u001b[39mor\u001b[39;00m \u001b[39m0\u001b[39m\n",
      "File \u001b[0;32m/Library/Frameworks/Python.framework/Versions/3.10/lib/python3.10/site-packages/pandas/core/indexing.py:1250\u001b[0m, in \u001b[0;36m_LocIndexer._getitem_tuple\u001b[0;34m(self, tup)\u001b[0m\n\u001b[1;32m   1247\u001b[0m     \u001b[39mreturn\u001b[39;00m \u001b[39mself\u001b[39m\u001b[39m.\u001b[39m_getitem_lowerdim(tup)\n\u001b[1;32m   1249\u001b[0m \u001b[39m# no multi-index, so validate all of the indexers\u001b[39;00m\n\u001b[0;32m-> 1250\u001b[0m tup \u001b[39m=\u001b[39m \u001b[39mself\u001b[39;49m\u001b[39m.\u001b[39;49m_validate_tuple_indexer(tup)\n\u001b[1;32m   1252\u001b[0m \u001b[39m# ugly hack for GH #836\u001b[39;00m\n\u001b[1;32m   1253\u001b[0m \u001b[39mif\u001b[39;00m \u001b[39mself\u001b[39m\u001b[39m.\u001b[39m_multi_take_opportunity(tup):\n",
      "File \u001b[0;32m/Library/Frameworks/Python.framework/Versions/3.10/lib/python3.10/site-packages/pandas/core/indexing.py:869\u001b[0m, in \u001b[0;36m_LocationIndexer._validate_tuple_indexer\u001b[0;34m(self, key)\u001b[0m\n\u001b[1;32m    864\u001b[0m \u001b[39m@final\u001b[39m\n\u001b[1;32m    865\u001b[0m \u001b[39mdef\u001b[39;00m \u001b[39m_validate_tuple_indexer\u001b[39m(\u001b[39mself\u001b[39m, key: \u001b[39mtuple\u001b[39m) \u001b[39m-\u001b[39m\u001b[39m>\u001b[39m \u001b[39mtuple\u001b[39m:\n\u001b[1;32m    866\u001b[0m     \u001b[39m\"\"\"\u001b[39;00m\n\u001b[1;32m    867\u001b[0m \u001b[39m    Check the key for valid keys across my indexer.\u001b[39;00m\n\u001b[1;32m    868\u001b[0m \u001b[39m    \"\"\"\u001b[39;00m\n\u001b[0;32m--> 869\u001b[0m     key \u001b[39m=\u001b[39m \u001b[39mself\u001b[39;49m\u001b[39m.\u001b[39;49m_validate_key_length(key)\n\u001b[1;32m    870\u001b[0m     key \u001b[39m=\u001b[39m \u001b[39mself\u001b[39m\u001b[39m.\u001b[39m_expand_ellipsis(key)\n\u001b[1;32m    871\u001b[0m     \u001b[39mfor\u001b[39;00m i, k \u001b[39min\u001b[39;00m \u001b[39menumerate\u001b[39m(key):\n",
      "File \u001b[0;32m/Library/Frameworks/Python.framework/Versions/3.10/lib/python3.10/site-packages/pandas/core/indexing.py:908\u001b[0m, in \u001b[0;36m_LocationIndexer._validate_key_length\u001b[0;34m(self, key)\u001b[0m\n\u001b[1;32m    906\u001b[0m             \u001b[39mraise\u001b[39;00m IndexingError(_one_ellipsis_message)\n\u001b[1;32m    907\u001b[0m         \u001b[39mreturn\u001b[39;00m \u001b[39mself\u001b[39m\u001b[39m.\u001b[39m_validate_key_length(key)\n\u001b[0;32m--> 908\u001b[0m     \u001b[39mraise\u001b[39;00m IndexingError(\u001b[39m\"\u001b[39m\u001b[39mToo many indexers\u001b[39m\u001b[39m\"\u001b[39m)\n\u001b[1;32m    909\u001b[0m \u001b[39mreturn\u001b[39;00m key\n",
      "\u001b[0;31mIndexingError\u001b[0m: Too many indexers"
     ]
    }
   ],
   "source": [
    "\n",
    "# converting the categorical variables to numerical variables\n",
    "\n",
    "df.reset_index(drop=True, inplace=True)\n",
    "gdr = df.loc[:,'Gender']\n",
    "nsh = df.loc[:,'No-Show']\n",
    "\n",
    "encg = []\n",
    "encn = []\n",
    "\n",
    "for i in gdr:\n",
    "    if i == 'M':\n",
    "        encg[i].append(1)\n",
    "    else:\n",
    "        encg[i].append(0)\n",
    "\n",
    "for i in nsh:\n",
    "    if i == 'No':\n",
    "        encn[i].append(0)\n",
    "    else:\n",
    "        encn[i].append(1)\n",
    "\n",
    "df['Gender'] = encg\n",
    "df['No-Show'] = encn"
   ]
  },
  {
   "cell_type": "code",
   "execution_count": 41,
   "metadata": {},
   "outputs": [
    {
     "name": "stdout",
     "output_type": "stream",
     "text": [
      "    Gender   Age   Neighbourhood  Hypertension  Diabetes  Alcoholism  \\\n",
      "29       1  12.0  NOVA PALESTINA             0         0           0   \n",
      "30       1  61.0   SÃO CRISTÓVÃO             1         0           0   \n",
      "31       0  38.0   SÃO CRISTÓVÃO             0         0           0   \n",
      "32       0  79.0   SÃO CRISTÓVÃO             1         0           0   \n",
      "33       1  18.0   SÃO CRISTÓVÃO             0         0           0   \n",
      "34       0  63.0   SÃO CRISTÓVÃO             1         1           0   \n",
      "\n",
      "    Handicap  SMS_received No-show  \n",
      "29         0             0     Yes  \n",
      "30         0             0      No  \n",
      "31         0             1      No  \n",
      "32         0             0      No  \n",
      "33         0             0      No  \n",
      "34         0             0      No  \n"
     ]
    }
   ],
   "source": [
    "# converting the categorical variables to numerical variables\n",
    "# add a ecoded column for each categorical column\n",
    "df.dtypes\n",
    "obj_df = df.select_dtypes(include=['object']).copy()\n",
    "obj_df.head()\n",
    "\n",
    "print(df[29:35])\n"
   ]
  }
 ],
 "metadata": {
  "kernelspec": {
   "display_name": "Python 3.10.5 64-bit",
   "language": "python",
   "name": "python3"
  },
  "language_info": {
   "codemirror_mode": {
    "name": "ipython",
    "version": 3
   },
   "file_extension": ".py",
   "mimetype": "text/x-python",
   "name": "python",
   "nbconvert_exporter": "python",
   "pygments_lexer": "ipython3",
   "version": "3.10.5"
  },
  "orig_nbformat": 4,
  "vscode": {
   "interpreter": {
    "hash": "aee8b7b246df8f9039afb4144a1f6fd8d2ca17a180786b69acc140d282b71a49"
   }
  }
 },
 "nbformat": 4,
 "nbformat_minor": 2
}
